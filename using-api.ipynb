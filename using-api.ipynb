{
 "cells": [
  {
   "cell_type": "code",
   "execution_count": 1,
   "metadata": {},
   "outputs": [],
   "source": [
    "import requests\n",
    "from pprint import pprint as pp"
   ]
  },
  {
   "attachments": {},
   "cell_type": "markdown",
   "metadata": {},
   "source": [
    "## Our API"
   ]
  },
  {
   "cell_type": "code",
   "execution_count": 6,
   "metadata": {},
   "outputs": [],
   "source": [
    "res = requests.get('http://127.0.0.1:5000/api/notebook')"
   ]
  },
  {
   "cell_type": "code",
   "execution_count": 11,
   "metadata": {},
   "outputs": [
    {
     "data": {
      "text/plain": [
       "{'bar': 'barr', 'foo': 'fooo', 'quote': 'hello from WORLD'}"
      ]
     },
     "execution_count": 11,
     "metadata": {},
     "output_type": "execute_result"
    }
   ],
   "source": [
    "res.json()"
   ]
  },
  {
   "cell_type": "code",
   "execution_count": 12,
   "metadata": {},
   "outputs": [],
   "source": [
    "res = requests.get('http://127.0.0.1:5000/api/world')"
   ]
  },
  {
   "cell_type": "code",
   "execution_count": 13,
   "metadata": {},
   "outputs": [
    {
     "data": {
      "text/plain": [
       "{'bar': 'barr', 'foo': 'fooo', 'quote': \"THE WORLD DOESN'T CARE\"}"
      ]
     },
     "execution_count": 13,
     "metadata": {},
     "output_type": "execute_result"
    }
   ],
   "source": [
    "res.json()"
   ]
  },
  {
   "attachments": {},
   "cell_type": "markdown",
   "metadata": {},
   "source": [
    "## Other API"
   ]
  },
  {
   "cell_type": "code",
   "execution_count": 6,
   "metadata": {},
   "outputs": [
    {
     "data": {
      "text/plain": [
       "<Response [200]>"
      ]
     },
     "execution_count": 6,
     "metadata": {},
     "output_type": "execute_result"
    }
   ],
   "source": [
    "res = requests.get('https://course-tool-backend-2kh6wuzobq-uc.a.run.app/course/33-241?schedules=true')\n",
    "res"
   ]
  },
  {
   "cell_type": "code",
   "execution_count": 12,
   "metadata": {},
   "outputs": [
    {
     "data": {
      "text/plain": [
       "['__attrs__',\n",
       " '__bool__',\n",
       " '__class__',\n",
       " '__delattr__',\n",
       " '__dict__',\n",
       " '__dir__',\n",
       " '__doc__',\n",
       " '__enter__',\n",
       " '__eq__',\n",
       " '__exit__',\n",
       " '__format__',\n",
       " '__ge__',\n",
       " '__getattribute__',\n",
       " '__getstate__',\n",
       " '__gt__',\n",
       " '__hash__',\n",
       " '__init__',\n",
       " '__init_subclass__',\n",
       " '__iter__',\n",
       " '__le__',\n",
       " '__lt__',\n",
       " '__module__',\n",
       " '__ne__',\n",
       " '__new__',\n",
       " '__nonzero__',\n",
       " '__reduce__',\n",
       " '__reduce_ex__',\n",
       " '__repr__',\n",
       " '__setattr__',\n",
       " '__setstate__',\n",
       " '__sizeof__',\n",
       " '__str__',\n",
       " '__subclasshook__',\n",
       " '__weakref__',\n",
       " '_content',\n",
       " '_content_consumed',\n",
       " '_next',\n",
       " 'apparent_encoding',\n",
       " 'close',\n",
       " 'connection',\n",
       " 'content',\n",
       " 'cookies',\n",
       " 'elapsed',\n",
       " 'encoding',\n",
       " 'headers',\n",
       " 'history',\n",
       " 'is_permanent_redirect',\n",
       " 'is_redirect',\n",
       " 'iter_content',\n",
       " 'iter_lines',\n",
       " 'json',\n",
       " 'links',\n",
       " 'next',\n",
       " 'ok',\n",
       " 'raise_for_status',\n",
       " 'raw',\n",
       " 'reason',\n",
       " 'request',\n",
       " 'status_code',\n",
       " 'text',\n",
       " 'url']"
      ]
     },
     "execution_count": 12,
     "metadata": {},
     "output_type": "execute_result"
    }
   ],
   "source": [
    "dir(res)"
   ]
  },
  {
   "cell_type": "code",
   "execution_count": 11,
   "metadata": {},
   "outputs": [
    {
     "data": {
      "text/plain": [
       "'{\"units\":\"9.0\",\"crosslisted\":[],\"coreqs\":[],\"prereqString\":\"(15112) and (21122) and (33104) and (33107 or 33112 or 33132 or 33142 or 33122 or 33152)\",\"prereqs\":[\"15-112\",\"21-122\",\"33-104\",\"33-107\",\"33-112\",\"33-132\",\"33-142\",\"33-122\",\"33-152\"],\"desc\":\"This undergraduate course will provide an introduction to the numerical methods and computational algorithms used to solve a variety of problems in physics. In introductory physics courses, you are able to derive analytical solutions for simpler problems and often with simplifying assumptions. Have you wondered if a numerical solution can be obtained for a more complex problem that has no closed-form analytical solution? Computational physics provides a modern and powerful approach to compliment classical approaches to problem solving. Todays and tomorrows scientists must be computationally fluent to be competitive and successful. In this course, you will learn to formulate problems by applying physical principles, select and apply numerical methods, develop and apply computational algorithms, solve physical problems analytically and numerically, and visualize quantitative results using plotting software.\",\"courseID\":\"33-241\",\"department\":\"Physics\",\"name\":\"Introduction to Computational Physics\",\"schedules\":[{\"_id\":\"5fb9873a411a90113c5f1515\",\"courseID\":\"33-241\",\"year\":2020,\"semester\":\"fall\",\"lectures\":[],\"sections\":[{\"instructors\":[\"Trac, Hy\"],\"_id\":\"6021cedb3af118380595b8b6\",\"name\":\"A\",\"times\":[{\"days\":[1,3,5],\"_id\":\"6021cedb3af118380595b8b7\",\"begin\":\"01:20PM\",\"end\":\"02:10PM\",\"building\":\"DH\",\"room\":\"A302\"}],\"location\":\"Pittsburgh, Pennsylvania\"}]},{\"_id\":\"60a34e95fadcd50890adf479\",\"courseID\":\"33-241\",\"year\":2021,\"semester\":\"fall\",\"lectures\":[],\"sections\":[{\"instructors\":[\"Ryan, Gillian\"],\"_id\":\"615fac99cd47c237fa34216d\",\"name\":\"A\",\"times\":[{\"days\":[1,3,5],\"_id\":\"615fac99cd47c237fa34216e\",\"begin\":\"12:20PM\",\"end\":\"01:10PM\",\"building\":\"WEH\",\"room\":\"7316\"}],\"location\":\"Pittsburgh, Pennsylvania\"}]},{\"_id\":\"6249523a650e712a3d466f22\",\"sections\":[{\"times\":[{\"days\":[1,3,5],\"begin\":\"12:20PM\",\"end\":\"01:10PM\",\"building\":\"DH\",\"room\":\"2122\",\"_id\":\"62e9d7c3cb6238e7805ed608\"}],\"name\":\"A\",\"instructors\":[\"Trac, Hy\"],\"location\":\"Pittsburgh, Pennsylvania\",\"_id\":\"62e9d7c3cb6238e7805ed607\"}],\"lectures\":[],\"semester\":\"fall\",\"year\":2022,\"courseID\":\"33-241\"}],\"id\":null}'"
      ]
     },
     "execution_count": 11,
     "metadata": {},
     "output_type": "execute_result"
    }
   ],
   "source": [
    "res.text"
   ]
  },
  {
   "cell_type": "code",
   "execution_count": 21,
   "metadata": {},
   "outputs": [
    {
     "name": "stdout",
     "output_type": "stream",
     "text": [
      "{'coreqs': [],\n",
      " 'courseID': '33-241',\n",
      " 'crosslisted': [],\n",
      " 'department': 'Physics',\n",
      " 'desc': 'This undergraduate course will provide an introduction to the '\n",
      "         'numerical methods and computational algorithms used to solve a '\n",
      "         'variety of problems in physics. In introductory physics courses, you '\n",
      "         'are able to derive analytical solutions for simpler problems and '\n",
      "         'often with simplifying assumptions. Have you wondered if a numerical '\n",
      "         'solution can be obtained for a more complex problem that has no '\n",
      "         'closed-form analytical solution? Computational physics provides a '\n",
      "         'modern and powerful approach to compliment classical approaches to '\n",
      "         'problem solving. Todays and tomorrows scientists must be '\n",
      "         'computationally fluent to be competitive and successful. In this '\n",
      "         'course, you will learn to formulate problems by applying physical '\n",
      "         'principles, select and apply numerical methods, develop and apply '\n",
      "         'computational algorithms, solve physical problems analytically and '\n",
      "         'numerically, and visualize quantitative results using plotting '\n",
      "         'software.',\n",
      " 'id': None,\n",
      " 'name': 'Introduction to Computational Physics',\n",
      " 'prereqString': '(15112) and (21122) and (33104) and (33107 or 33112 or 33132 '\n",
      "                 'or 33142 or 33122 or 33152)',\n",
      " 'prereqs': ['15-112',\n",
      "             '21-122',\n",
      "             '33-104',\n",
      "             '33-107',\n",
      "             '33-112',\n",
      "             '33-132',\n",
      "             '33-142',\n",
      "             '33-122',\n",
      "             '33-152'],\n",
      " 'schedules': [{'_id': '5fb9873a411a90113c5f1515',\n",
      "                'courseID': '33-241',\n",
      "                'lectures': [],\n",
      "                'sections': [{'_id': '6021cedb3af118380595b8b6',\n",
      "                              'instructors': ['Trac, Hy'],\n",
      "                              'location': 'Pittsburgh, Pennsylvania',\n",
      "                              'name': 'A',\n",
      "                              'times': [{'_id': '6021cedb3af118380595b8b7',\n",
      "                                         'begin': '01:20PM',\n",
      "                                         'building': 'DH',\n",
      "                                         'days': [1, 3, 5],\n",
      "                                         'end': '02:10PM',\n",
      "                                         'room': 'A302'}]}],\n",
      "                'semester': 'fall',\n",
      "                'year': 2020},\n",
      "               {'_id': '60a34e95fadcd50890adf479',\n",
      "                'courseID': '33-241',\n",
      "                'lectures': [],\n",
      "                'sections': [{'_id': '615fac99cd47c237fa34216d',\n",
      "                              'instructors': ['Ryan, Gillian'],\n",
      "                              'location': 'Pittsburgh, Pennsylvania',\n",
      "                              'name': 'A',\n",
      "                              'times': [{'_id': '615fac99cd47c237fa34216e',\n",
      "                                         'begin': '12:20PM',\n",
      "                                         'building': 'WEH',\n",
      "                                         'days': [1, 3, 5],\n",
      "                                         'end': '01:10PM',\n",
      "                                         'room': '7316'}]}],\n",
      "                'semester': 'fall',\n",
      "                'year': 2021},\n",
      "               {'_id': '6249523a650e712a3d466f22',\n",
      "                'courseID': '33-241',\n",
      "                'lectures': [],\n",
      "                'sections': [{'_id': '62e9d7c3cb6238e7805ed607',\n",
      "                              'instructors': ['Trac, Hy'],\n",
      "                              'location': 'Pittsburgh, Pennsylvania',\n",
      "                              'name': 'A',\n",
      "                              'times': [{'_id': '62e9d7c3cb6238e7805ed608',\n",
      "                                         'begin': '12:20PM',\n",
      "                                         'building': 'DH',\n",
      "                                         'days': [1, 3, 5],\n",
      "                                         'end': '01:10PM',\n",
      "                                         'room': '2122'}]}],\n",
      "                'semester': 'fall',\n",
      "                'year': 2022}],\n",
      " 'units': '9.0'}\n"
     ]
    }
   ],
   "source": [
    "jsonres = res.json()\n",
    "pp(jsonres)"
   ]
  }
 ],
 "metadata": {
  "kernelspec": {
   "display_name": "base",
   "language": "python",
   "name": "python3"
  },
  "language_info": {
   "codemirror_mode": {
    "name": "ipython",
    "version": 3
   },
   "file_extension": ".py",
   "mimetype": "text/x-python",
   "name": "python",
   "nbconvert_exporter": "python",
   "pygments_lexer": "ipython3",
   "version": "3.9.13"
  },
  "orig_nbformat": 4,
  "vscode": {
   "interpreter": {
    "hash": "0228fee4d25496bb422a7e0c363e636da60e8258e4b70dda8036e2defd0af2d7"
   }
  }
 },
 "nbformat": 4,
 "nbformat_minor": 2
}
